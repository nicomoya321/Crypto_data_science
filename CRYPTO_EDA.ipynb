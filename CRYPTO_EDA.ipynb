{
  "nbformat": 4,
  "nbformat_minor": 0,
  "metadata": {
    "colab": {
      "private_outputs": true,
      "provenance": []
    },
    "kernelspec": {
      "name": "python3",
      "display_name": "Python 3"
    },
    "language_info": {
      "name": "python"
    }
  },
  "cells": [
    {
      "cell_type": "code",
      "execution_count": null,
      "metadata": {
        "id": "O8gWz_kb1N9e"
      },
      "outputs": [],
      "source": [
        "#importo las librerias que me van a servir para :\n",
        "#requests para conectarnos a la API CoinGecko y obtener información actualizada\n",
        "#pandas se utiliza para cargar y manipular los datos obtenidos de la API CoinGecko\n",
        "#matplotlib.pyplot y seaborn para crear visualizaciones en el EDA\n",
        "#locale en este caso para que los números y monedas se formateen de acuerdo con las convenciones en inglés (libreria de foro coingecko)\n",
        "\n",
        "import requests\n",
        "import locale\n",
        "import pandas as pd\n",
        "import matplotlib.pyplot as plt\n",
        "import seaborn as sns"
      ]
    },
    {
      "cell_type": "code",
      "source": [
        "#Cargar los archivos CSV en DtaFrames separados para luego unirlos en uno solo df y guardarlo"
      ],
      "metadata": {
        "id": "I7UI6bvh2dfo"
      },
      "execution_count": null,
      "outputs": []
    },
    {
      "cell_type": "code",
      "source": [
        "df_stable = pd.read_csv('SC_DATA.csv')\n",
        "df_crypto = pd.read_csv('crypto_data.csv')\n",
        "\n",
        "df_cryptocurrent = pd.concat([df_stable, df_crypto], ignore_index=True)\n",
        "\n",
        "df_cryptocurrent.to_csv('cryptocurrency.csv', index=False)"
      ],
      "metadata": {
        "id": "kfv31gVY1aAR"
      },
      "execution_count": null,
      "outputs": []
    },
    {
      "cell_type": "code",
      "source": [
        "df_cryptocurrent.head(10)"
      ],
      "metadata": {
        "id": "V3td9E083RFM"
      },
      "execution_count": null,
      "outputs": []
    },
    {
      "cell_type": "code",
      "source": [
        "df_cryptocurrent.dtypes"
      ],
      "metadata": {
        "id": "ZVYUEemp3XhC"
      },
      "execution_count": null,
      "outputs": []
    },
    {
      "cell_type": "code",
      "source": [
        "duplicates = df_stable.duplicated()\n",
        "print(f\"{duplicates.sum()}\")"
      ],
      "metadata": {
        "id": "YBjx1P9m3lV7"
      },
      "execution_count": null,
      "outputs": []
    },
    {
      "cell_type": "code",
      "source": [
        "df_stable.isnull().sum()"
      ],
      "metadata": {
        "id": "EDQ80QBd3wLX"
      },
      "execution_count": null,
      "outputs": []
    },
    {
      "cell_type": "code",
      "source": [
        "#convierto date a datetime\n",
        "df_cryptocurrent[\"Date\"] = pd.to_datetime(df_cryptocurrent[\"Date\"],  dayfirst=True)"
      ],
      "metadata": {
        "id": "-MwYyIy630Uu"
      },
      "execution_count": null,
      "outputs": []
    },
    {
      "cell_type": "code",
      "source": [
        "#establezco locale para que me formatee los numeros\n",
        "#Definir una función para formatear números con el separador de miles.\n",
        "#Aplico formato a las columnas numéricas, para mantener asi el precio en usd\n",
        "\n",
        "locale.setlocale(locale.LC_ALL, 'es_ES.utf8')\n",
        "\n",
        "def format_with_thousands_separator(number):\n",
        "    return locale.format_string('%d', number, grouping=True)\n",
        "\n",
        "numeric_columns = ['MarketCap', 'TotalVolume']\n",
        "\n",
        "for column in numeric_columns:\n",
        "    df_cryptocurrent[column] = df_cryptocurrent[column].apply(format_with_thousands_separator)"
      ],
      "metadata": {
        "id": "ULGnCqpz4UIx"
      },
      "execution_count": null,
      "outputs": []
    },
    {
      "cell_type": "code",
      "source": [
        "#vemos los cambios\n",
        "df_cryptocurrent.head(10)"
      ],
      "metadata": {
        "id": "j7gpsf0P7M2k"
      },
      "execution_count": null,
      "outputs": []
    },
    {
      "cell_type": "code",
      "source": [
        "all_cryptocurrencies = df_cryptocurrent['Currency'].unique()\n",
        "\n",
        "sample_cryptocurrencies = all_cryptocurrencies[:8]\n",
        "\n",
        "df_sample = df_cryptocurrent[df_cryptocurrent['Currency'].isin(sample_cryptocurrencies)]\n",
        "\n",
        "variable_combinations = [('Price', 'MarketCap'), ('Price', 'TotalVolume'), ('MarketCap', 'TotalVolume')]\n",
        "\n",
        "plt.figure(figsize=(12, 8))\n",
        "for var_x, var_y in variable_combinations:\n",
        "    plt.subplot(2, 2, variable_combinations.index((var_x, var_y)) + 1)\n",
        "    for crypto in sample_cryptocurrencies:\n",
        "        subset = df_sample[df_sample['Currency'] == crypto]\n",
        "        plt.scatter(subset[var_x], subset[var_y], label=crypto, alpha=0.6)\n",
        "    plt.xlabel(var_x)\n",
        "    plt.ylabel(var_y)\n",
        "    plt.xscale('log')\n",
        "    plt.yscale('log')\n",
        "    plt.legend()\n",
        "    plt.title(f'{var_x} vs {var_y}')\n",
        "\n",
        "plt.tight_layout()\n",
        "plt.show()"
      ],
      "metadata": {
        "id": "rkkJr8u47Tcl"
      },
      "execution_count": null,
      "outputs": []
    },
    {
      "cell_type": "code",
      "source": [
        "#Gráfico de líneas con áreas: se utiliza para representar la evolución y las tendencias\n",
        "# saltear el DataFrame para tener las fechas como índice y las cripto como columnas\n",
        "pivot_df = df_cryptocurrent.pivot(index='Date', columns='Stablecoin', values='Price')\n",
        "\n",
        "# Crear un gráfico de líneas con áreas para el precio de cada moneda en todas las fechas\n",
        "plt.figure(figsize=(10, 6))\n",
        "for crypto in pivot_df.columns:\n",
        "    plt.fill_between(pivot_df.index, pivot_df[crypto], label=crypto, alpha=0.5)\n",
        "    plt.plot(pivot_df.index, pivot_df[crypto], alpha=0.8)\n",
        "\n",
        "plt.xlabel('Fecha')\n",
        "plt.ylabel('Precio')\n",
        "plt.title('Evolución del Precio de las criptomonedas en todas las fechas')\n",
        "plt.xticks(rotation=45)\n",
        "plt.legend(title='Criptomoneda', bbox_to_anchor=(1, 1))\n",
        "plt.tight_layout()\n",
        "plt.show()\n"
      ],
      "metadata": {
        "id": "HHfgeaiJ70dk"
      },
      "execution_count": null,
      "outputs": []
    },
    {
      "cell_type": "code",
      "source": [
        "#Matriz de correlación:\n",
        "correlation_matrix = df_cryptocurrent.pivot_table(values='Price', columns='Stablecoin', index='Date')\n",
        "\n",
        "plt.figure(figsize=(10, 8))\n",
        "plt.imshow(correlation_matrix.corr(), cmap='coolwarm', interpolation='none')\n",
        "plt.colorbar()\n",
        "plt.title('Matriz de Correlación entre Precios de Cryptocurrency')\n",
        "plt.xticks(range(len(correlation_matrix.columns)), correlation_matrix.columns, rotation=45)\n",
        "plt.yticks(range(len(correlation_matrix.columns)), correlation_matrix.columns)\n",
        "plt.tight_layout()\n",
        "plt.show()"
      ],
      "metadata": {
        "id": "2qsp_aJq-_nz"
      },
      "execution_count": null,
      "outputs": []
    },
    {
      "cell_type": "code",
      "source": [
        "#Podemos observar de acuerdo a los colores correlaciones:\n",
        "\n",
        "#Positivas: Las zonas de colores más cálidos (rojos) en la matriz indican correlaciones positivas entre las criptomonedas correspondientes. Esto significa que los precios de estas criptomonedas tienden a moverse en la misma dirección a lo largo del tiempo. Cuanto más intenso sea el tono de rojo, mayor será la correlación positiva entre las criptomonedas. Por ejemplo entre usd-coin, true-usd y dai., o entre BNB, SRP y Dogecoin.\n",
        "#Negativas: Las áreas de colores más fríos (azules) indican correlaciones negativas entre las criptomonedas correspondientes. Esto significa que los precios de estas criptomonedas tienden a moverse en direcciones opuestas. Cuanto más intenso sea el tono de azul, mayor será la correlación negativa entre las criptomonedas. Por ejempo, paxos-standard con las demas.\n",
        "#Bajas o Nulas: Las áreas de colores más neutros (tonos cercanos al blanco) sugieren correlaciones bajas o nulas entre las criptomonedas correspondientes. Esto indica que los precios de estas criptomonedas no están fuertemente relacionados entre sí y pueden moverse de manera independiente. Por ejemplo, usd-coin, dai y true-usd con binance-coin, FRAX y USDD."
      ],
      "metadata": {
        "id": "Z2mNyeAq_OO6"
      },
      "execution_count": null,
      "outputs": []
    },
    {
      "cell_type": "code",
      "source": [
        "#guardo todo en un csv\n",
        "df_cryptocurrent.to_csv('crypto_final.csv', index=False)"
      ],
      "metadata": {
        "id": "se5Sps-L_YKC"
      },
      "execution_count": null,
      "outputs": []
    }
  ]
}