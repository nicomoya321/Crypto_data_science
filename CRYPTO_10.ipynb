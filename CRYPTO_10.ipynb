{
  "nbformat": 4,
  "nbformat_minor": 0,
  "metadata": {
    "colab": {
      "private_outputs": true,
      "provenance": []
    },
    "kernelspec": {
      "name": "python3",
      "display_name": "Python 3"
    },
    "language_info": {
      "name": "python"
    }
  },
  "cells": [
    {
      "cell_type": "code",
      "source": [
        "import requests\n",
        "import pandas as pd\n",
        "from datetime import datetime"
      ],
      "metadata": {
        "id": "DyadnuR_wLYZ"
      },
      "execution_count": null,
      "outputs": []
    },
    {
      "cell_type": "code",
      "execution_count": null,
      "metadata": {
        "id": "OgnNjRJmvMYh"
      },
      "outputs": [],
      "source": [
        "def crypto_data(id, days):\n",
        "    info_endpoint = f\"https://api.coingecko.com/api/v3/coins/{id}\"\n",
        "    info_response = requests.get(info_endpoint)\n",
        "\n",
        "    if info_response.status_code == 200:\n",
        "        coin_info = info_response.json()\n",
        "        coin_name = coin_info[\"name\"]\n",
        "    else:\n",
        "        print(f\"Error al obtener la información de {id}. Detalles del error:\")\n",
        "        print(info_response.text)\n",
        "        return None\n",
        "\n",
        "    history_endpoint = f\"https://api.coingecko.com/api/v3/coins/{id}/market_chart\"\n",
        "    history_params = {\n",
        "        \"vs_currency\": \"usd\",\n",
        "        \"days\": days,\n",
        "        \"interval\": \"daily\"\n",
        "    }\n",
        "\n",
        "    history_response = requests.get(history_endpoint, params=history_params)\n",
        "\n",
        "    if history_response.status_code == 200:\n",
        "        history_data = history_response.json()\n",
        "        timestamps = [entry[0] for entry in history_data[\"prices\"]]\n",
        "        prices = [entry[1] for entry in history_data[\"prices\"]]\n",
        "        market_caps = [entry[1] for entry in history_data[\"market_caps\"]]\n",
        "        total_volumes = [entry[1] for entry in history_data[\"total_volumes\"]]\n",
        "\n",
        "        dates = [datetime.fromtimestamp(ts / 1000).strftime('%Y-%m-%d') for ts in timestamps]\n",
        "\n",
        "        df_historical = pd.DataFrame({\n",
        "            \"Date\": dates,\n",
        "            \"Price\": prices,\n",
        "            \"MarketCap\": market_caps,\n",
        "            \"TotalVolume\": total_volumes,\n",
        "            \"Currency\": [coin_name] * len(timestamps)\n",
        "        })\n",
        "\n",
        "        return df_historical\n",
        "    else:\n",
        "        print(f\"Error al obtener los datos históricos para {id}. Detalles del error:\")\n",
        "        print(history_response.text)\n",
        "        return None\n",
        "\n",
        "# Símbolos de las 10 monedas principales\n",
        "top = [\"bitcoin\", \"ethereum\", \"binancecoin\", \"ripple\", \"dogecoin\"]\n",
        "\n",
        "days = \"14\""
      ]
    },
    {
      "cell_type": "code",
      "source": [
        "df_min = pd.DataFrame()\n",
        "for symbol in top:\n",
        "    df_symbol = crypto_data(id=symbol, days=days)\n",
        "    if df_symbol is not None:\n",
        "        df_min = pd.concat([df_min, df_symbol], ignore_index=True)\n",
        "\n",
        "df_min.to_csv(\"crypto_data.csv\", index=False)"
      ],
      "metadata": {
        "id": "bY-Vox3rwHO1"
      },
      "execution_count": null,
      "outputs": []
    },
    {
      "cell_type": "code",
      "source": [
        "df_min"
      ],
      "metadata": {
        "id": "a3SMQ5dew9Su"
      },
      "execution_count": null,
      "outputs": []
    },
    {
      "cell_type": "code",
      "source": [],
      "metadata": {
        "id": "bh5CCKf7wexH"
      },
      "execution_count": null,
      "outputs": []
    }
  ]
}