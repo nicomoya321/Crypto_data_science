{
  "nbformat": 4,
  "nbformat_minor": 0,
  "metadata": {
    "colab": {
      "private_outputs": true,
      "provenance": []
    },
    "kernelspec": {
      "name": "python3",
      "display_name": "Python 3"
    },
    "language_info": {
      "name": "python"
    }
  },
  "cells": [
    {
      "cell_type": "code",
      "execution_count": null,
      "metadata": {
        "id": "R31ji0JZyUGA"
      },
      "outputs": [],
      "source": [
        "#importamos librerias\n",
        "\n",
        "import requests\n",
        "import pandas as pd\n",
        "from datetime import datetime"
      ]
    },
    {
      "cell_type": "code",
      "source": [
        "#creo la funcion crypto_stable_data para realizar la solicitud a la api coingecko y extraer informacion"
      ],
      "metadata": {
        "id": "yBd_Ilnuy0Xj"
      },
      "execution_count": null,
      "outputs": []
    },
    {
      "cell_type": "code",
      "source": [
        "def crypto_stable_data(id, days):\n",
        "    history_endpoint = f\"https://api.coingecko.com/api/v3/coins/{id}/market_chart\"\n",
        "    history_params = {\n",
        "        \"vs_currency\": \"usd\",\n",
        "        \"days\": days,\n",
        "        \"interval\": \"daily\"\n",
        "    }\n",
        "\n",
        "    history_response = requests.get(history_endpoint, params=history_params)\n",
        "\n",
        "    if history_response.status_code == 200:\n",
        "        history_data = history_response.json()\n",
        "        timestamps = [entry[0] for entry in history_data[\"prices\"]]\n",
        "        prices = [entry[1] for entry in history_data[\"prices\"]]\n",
        "        market_caps = [entry[1] for entry in history_data[\"market_caps\"]]\n",
        "        total_volumes = [entry[1] for entry in history_data[\"total_volumes\"]]\n",
        "\n",
        "        dates = [datetime.fromtimestamp(ts / 1000).strftime('%Y-%m-%d') for ts in timestamps]\n",
        "\n",
        "        df_historical = pd.DataFrame({\n",
        "            \"Date\": dates,\n",
        "            \"Price\": prices,\n",
        "            \"MarketCap\": market_caps,\n",
        "            \"TotalVolume\": total_volumes,\n",
        "            \"Stablecoin\": [id] * len(timestamps)\n",
        "        })\n",
        "\n",
        "        return df_historical\n",
        "    else:\n",
        "        print(f\"Error al obtener los datos históricos para {id}. Detalles del error:\")\n",
        "        print(history_response.text)\n",
        "        return None\n",
        "\n",
        "stable = [\"tether\", \"usd-coin\", \"dai\", \"true-usd\", \"binance-usd\", \"frax\", \"usdd\", \"paxos-standard\"]\n",
        "\n",
        "days = \"14\""
      ],
      "metadata": {
        "id": "RrUMT_Grymvl"
      },
      "execution_count": null,
      "outputs": []
    },
    {
      "cell_type": "code",
      "source": [
        "#creo el dataframe df_SC por stable -crypto\n",
        "\n",
        "df_SC= pd.DataFrame()\n",
        "for symbol in stable:\n",
        "    df_symbol = crypto_stable_data(id=symbol, days=days)\n",
        "    if df_symbol is not None:\n",
        "        df_SC = pd.concat([df_SC, df_symbol], ignore_index=True)"
      ],
      "metadata": {
        "id": "nPwGqqYYzDjn"
      },
      "execution_count": null,
      "outputs": []
    },
    {
      "cell_type": "code",
      "source": [
        "df_SC"
      ],
      "metadata": {
        "id": "76OUJo_3zjim"
      },
      "execution_count": null,
      "outputs": []
    },
    {
      "cell_type": "code",
      "source": [
        "#guardo todo en un dataset\n",
        "df_SC.to_csv(\"SC_DATA.csv\", index=False)"
      ],
      "metadata": {
        "id": "ND0CRNSZ0kyP"
      },
      "execution_count": null,
      "outputs": []
    }
  ]
}